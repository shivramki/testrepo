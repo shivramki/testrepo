{
 "cells": [
  {
   "cell_type": "code",
   "execution_count": null,
   "id": "7dd00984",
   "metadata": {},
   "outputs": [],
   "source": [
    "#Data Science Tools and Ecosystem\n",
    "## In this notebook, Data Science Tools and Ecosystem are summarized.\n",
    "## Some of the popular libraries that Data Scientists use are:\n",
    "###Scala, python, Java, Pystark\n",
    "\n",
    "## Some of the popular languages that Data Scientists use are:\n",
    "### Tensorflow, pyspark, Numpy, Scipi, keras, pandas\n",
    "\n",
    "## Data science tools\n",
    "### R, Python, SQL, MS-Excel\n"
   ]
  },
  {
   "cell_type": "code",
   "execution_count": 22,
   "id": "81cab447",
   "metadata": {},
   "outputs": [
    {
     "data": {
      "text/plain": [
       "'Area of a Circle = 3.14 * 6 *6 = 1.13e+02'"
      ]
     },
     "execution_count": 22,
     "metadata": {},
     "output_type": "execute_result"
    }
   ],
   "source": [
    "import math\n",
    "r = 6\n",
    "circumference = 2 * math.pi * r\n",
    "Area = math.pi * r* r\n",
    "f\"Circumference of a Circle = 2 * {math.pi:.3} * {r} = {circumference:.3}\"\n",
    "\n",
    "f\"Area of a Circle = {math.pi:.3} * {r} *{r} = {Area:.3}\""
   ]
  },
  {
   "cell_type": "code",
   "execution_count": 28,
   "id": "b54fa9a7",
   "metadata": {},
   "outputs": [
    {
     "name": "stdout",
     "output_type": "stream",
     "text": [
      "12:49\n"
     ]
    }
   ],
   "source": [
    "total_minutes = 769\n",
    "# Get hours with floor division\n",
    "hours = total_minutes // 60\n",
    "# Get additional minutes with modulus\n",
    "minutes = total_minutes % 60\n",
    "# Create time as a string\n",
    "time_string = \"{}:{}\".format(hours, minutes)\n",
    "print(time_string) "
   ]
  },
  {
   "cell_type": "code",
   "execution_count": null,
   "id": "52d0f00b",
   "metadata": {},
   "outputs": [],
   "source": [
    "## Author - Name - Shivaramkrishnan"
   ]
  },
  {
   "cell_type": "code",
   "execution_count": null,
   "id": "d3ac38be",
   "metadata": {},
   "outputs": [],
   "source": []
  }
 ],
 "metadata": {
  "kernelspec": {
   "display_name": "Python 3 (ipykernel)",
   "language": "python",
   "name": "python3"
  },
  "language_info": {
   "codemirror_mode": {
    "name": "ipython",
    "version": 3
   },
   "file_extension": ".py",
   "mimetype": "text/x-python",
   "name": "python",
   "nbconvert_exporter": "python",
   "pygments_lexer": "ipython3",
   "version": "3.9.12"
  }
 },
 "nbformat": 4,
 "nbformat_minor": 5
}
